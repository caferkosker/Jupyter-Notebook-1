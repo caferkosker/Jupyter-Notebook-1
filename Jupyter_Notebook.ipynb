{
 "cells": [
  {
   "cell_type": "markdown",
   "metadata": {},
   "source": [
    "<center>\n",
    "    <img src=\"https://cf-courses-data.s3.us.cloud-object-storage.appdomain.cloud/IBMDeveloperSkillsNetwork-DS0105EN-SkillsNetwork/labs/Module2/images/SN_web_lightmode.png\" width=\"300\" alt=\"cognitiveclass.ai logo\">\n",
    "</center>\n"
   ]
  },
  {
   "cell_type": "markdown",
   "metadata": {},
   "source": [
    "#### Add your code below following the instructions given in the course\n"
   ]
  },
  {
   "cell_type": "code",
   "execution_count": null,
   "metadata": {
    "tags": []
   },
   "outputs": [],
   "source": [
    "# Data Science Tools and Ecosystem\n",
    "\n"
   ]
  },
  {
   "cell_type": "code",
   "execution_count": 2,
   "metadata": {
    "tags": []
   },
   "outputs": [
    {
     "name": "stdout",
     "output_type": "stream",
     "text": [
      "In this notebook, Data Science Tools and Ecosystem are summarized.\n"
     ]
    }
   ],
   "source": [
    "print(\"In this notebook, Data Science Tools and Ecosystem are summarized.\")\n",
    "\n"
   ]
  },
  {
   "cell_type": "code",
   "execution_count": 6,
   "metadata": {
    "tags": []
   },
   "outputs": [
    {
     "name": "stdout",
     "output_type": "stream",
     "text": [
      "Some of the popular languages that Data Scientists use are:\n",
      "1. Python\n",
      "2. R\n",
      "3. Julia\n"
     ]
    }
   ],
   "source": [
    "print(\"Some of the popular languages that Data Scientists use are:\")\n",
    "print(\"1. Python\\n2. R\\n3. Julia\")\n"
   ]
  },
  {
   "cell_type": "code",
   "execution_count": 2,
   "metadata": {
    "tags": []
   },
   "outputs": [
    {
     "name": "stdout",
     "output_type": "stream",
     "text": [
      "Some of the commonly used libraries used by Data Scientists include:\n",
      "1. NumPy\n",
      "2. pandas\n",
      "3. Matplotlib\n"
     ]
    }
   ],
   "source": [
    "print(\"Some of the commonly used libraries used by Data Scientists include:\")\n",
    "print(\"1. NumPy\\n2. pandas\\n3. Matplotlib\")"
   ]
  },
  {
   "cell_type": "code",
   "execution_count": 3,
   "metadata": {
    "tags": []
   },
   "outputs": [
    {
     "name": "stdout",
     "output_type": "stream",
     "text": [
      "| Data Science Tools |\n",
      "|--------------------|\n",
      "| Jupyter Notebooks |\n",
      "| RStudio            |\n",
      "| PyCharm            |\n"
     ]
    }
   ],
   "source": [
    "print(\"| Data Science Tools |\")\n",
    "print(\"|--------------------|\")\n",
    "print(\"| Jupyter Notebooks |\")\n",
    "print(\"| RStudio            |\")\n",
    "print(\"| PyCharm            |\")"
   ]
  },
  {
   "cell_type": "code",
   "execution_count": null,
   "metadata": {},
   "outputs": [],
   "source": [
    "### Below are a few examples of evaluating arithmetic expressions in Python.\n"
   ]
  },
  {
   "cell_type": "code",
   "execution_count": 13,
   "metadata": {
    "tags": []
   },
   "outputs": [
    {
     "name": "stdout",
     "output_type": "stream",
     "text": [
      "This a simple arithmetic expression to mutiply then add integers.\n",
      "18\n"
     ]
    }
   ],
   "source": [
    "print(\"This a simple arithmetic expression to mutiply then add integers.\")\n",
    "print((6+3)*2)"
   ]
  },
  {
   "cell_type": "code",
   "execution_count": 14,
   "metadata": {
    "tags": []
   },
   "outputs": [
    {
     "name": "stdout",
     "output_type": "stream",
     "text": [
      "This will convert 200 minutes to hours by diving by 60\n",
      "3.3333333333333335\n"
     ]
    }
   ],
   "source": [
    "print(\"This will convert 200 minutes to hours by diving by 60\")\n",
    "print(200/60)"
   ]
  },
  {
   "cell_type": "code",
   "execution_count": 15,
   "metadata": {
    "tags": []
   },
   "outputs": [
    {
     "name": "stdout",
     "output_type": "stream",
     "text": [
      "**Objectives:**\n",
      "- List popular languages for Data Science\n",
      "- Introduce common libraries used in Data Science\n",
      "- Provide examples of evaluating arithmetic expressions in Python\n"
     ]
    }
   ],
   "source": [
    "print(\"**Objectives:**\")\n",
    "print(\"- List popular languages for Data Science\")\n",
    "print(\"- Introduce common libraries used in Data Science\")\n",
    "print(\"- Provide examples of evaluating arithmetic expressions in Python\")\n"
   ]
  },
  {
   "cell_type": "code",
   "execution_count": 16,
   "metadata": {
    "tags": []
   },
   "outputs": [
    {
     "name": "stdout",
     "output_type": "stream",
     "text": [
      "#Author\n",
      "Cafer Köşker\n"
     ]
    }
   ],
   "source": [
    "print(\"#Author\")\n",
    "print(\"Cafer Köşker\")\n",
    "    "
   ]
  },
  {
   "cell_type": "code",
   "execution_count": null,
   "metadata": {},
   "outputs": [],
   "source": []
  }
 ],
 "metadata": {
  "kernelspec": {
   "display_name": "Python",
   "language": "python",
   "name": "conda-env-python-py"
  },
  "language_info": {
   "codemirror_mode": {
    "name": "ipython",
    "version": 3
   },
   "file_extension": ".py",
   "mimetype": "text/x-python",
   "name": "python",
   "nbconvert_exporter": "python",
   "pygments_lexer": "ipython3",
   "version": "3.7.12"
  }
 },
 "nbformat": 4,
 "nbformat_minor": 4
}
